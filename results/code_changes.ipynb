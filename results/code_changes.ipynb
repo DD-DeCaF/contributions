{
 "cells": [
  {
   "cell_type": "code",
   "execution_count": 1,
   "metadata": {},
   "outputs": [],
   "source": [
    "%load_ext lab_black"
   ]
  },
  {
   "cell_type": "markdown",
   "metadata": {},
   "source": [
    "# Measure Code Contributions in Percent"
   ]
  },
  {
   "cell_type": "markdown",
   "metadata": {},
   "source": [
    "## Prepare Authors"
   ]
  },
  {
   "cell_type": "code",
   "execution_count": 2,
   "metadata": {},
   "outputs": [],
   "source": [
    "import json\n",
    "from pprint import pprint"
   ]
  },
  {
   "cell_type": "code",
   "execution_count": 3,
   "metadata": {},
   "outputs": [],
   "source": [
    "with open(\"authors.json\") as handle:\n",
    "    authors = json.load(handle)"
   ]
  },
  {
   "cell_type": "code",
   "execution_count": 4,
   "metadata": {},
   "outputs": [
    {
     "name": "stdout",
     "output_type": "stream",
     "text": [
      "{'43807218+annasirunian@users.noreply.github.com': {'login': ['annasirunian'],\n",
      "                                                    'names': ['Anna Sirunian']},\n",
      " '49699333+dependabot[bot]@users.noreply.github.com': {'login': ['dependabot[bot]'],\n",
      "                                                       'names': ['dependabot[bot]']},\n",
      " 'alba.lopez.benito@gmail.com': {'login': ['AlbaLopez'],\n",
      "                                 'names': ['AlbaLopez', 'Alba Lopez']},\n",
      " 'ali@kvikshaug.no': {'login': ['kvikshaug'], 'names': ['Ali Kaafarani']},\n",
      " 'anna_sirunian@ukr.net': {'login': ['annasirunian'],\n",
      "                           'names': ['Anna Sirunian']},\n",
      " 'bejsab@biosustain.dtu.dk': {'login': ['BenjaSanchez'],\n",
      "                              'names': ['Benjamín Sánchez']},\n",
      " 'bjsanchezb@gmail.com': {'login': ['BenjaSanchez'],\n",
      "                          'names': ['Benjamín Sánchez',\n",
      "                                    'Ben',\n",
      "                                    'Benjamin Sanchez']},\n",
      " 'carrascomurielj@gmail.com': {'login': ['carrascomj'],\n",
      "                               'names': ['carrascomj']},\n",
      " 'christian.lieven@gmx.de': {'login': ['ChristianLieven'],\n",
      "                             'names': ['Christian Lieven']},\n",
      " 'christian.ravnen@gmail.com': {'login': ['RavensburgOP'],\n",
      "                                'names': ['Christian Ravn']},\n",
      " 'clie@biosustain.dtu.dk': {'login': ['ChristianLieven'],\n",
      "                            'names': ['Christian Lieven', 'ChristianLieven']},\n",
      " 'dandann@biosustain.dtu.dk': {'names': ['Danny Dannaher']},\n",
      " 'danny.dannaher@gmail.com': {'login': ['warlink'],\n",
      "                              'names': ['Danny Dannaher']},\n",
      " 'galkina.s.a@gmail.com': {'login': ['sgalkina'],\n",
      "                           'names': ['sgalkina',\n",
      "                                     'nikolay',\n",
      "                                     'Svetlana',\n",
      "                                     'Svetlana Galkina']},\n",
      " 'galkinasa@gmail.com': {'names': ['Svetlana']},\n",
      " 'github.chauhan.siddharth@gmail.com': {'login': ['siddC'],\n",
      "                                        'names': ['Siddharth Chauhan']},\n",
      " 'henning.red@gmail.com': {'login': ['hredestig'],\n",
      "                           'names': ['Henning Redestig']},\n",
      " 'iron@waffle.io': {'login': ['waffle-iron'],\n",
      "                    'names': ['Making GitHub Delicious']},\n",
      " 'jonas.sindlinger@web.de': {'login': ['blablabananarama'],\n",
      "                             'names': ['Jonas Sindlinger']},\n",
      " 'juraj.oravec.josefson@gmail.com': {'login': ['JuroOravec'],\n",
      "                                     'names': ['Juraj Oravec', 'Juro Oravec']},\n",
      " 'lukaw3d@gmail.com': {'login': ['lukaw3d'],\n",
      "                       'names': ['lukaw3d', 'Luka Jeran']},\n",
      " 'matyas.fodor@gmail.com': {'login': ['matyasfodor'],\n",
      "                            'names': ['Mátyás Fodor']},\n",
      " 'midnighter@posteo.net': {'login': ['Midnighter'],\n",
      "                           'names': ['Moritz E. Beber', 'Midnighter']},\n",
      " 'morbeb@biosustain.dtu.dk': {'login': ['Midnighter'],\n",
      "                              'names': ['Moritz E. Beber']},\n",
      " 'niko.sonnenschein@gmail.com': {'login': ['phantomas1234'],\n",
      "                                 'names': ['Nikolaus Sonnenschein',\n",
      "                                           'Niko Sonnenschein']},\n",
      " 'niso@biosustain.dtu.dk': {'login': ['phantomas1234'],\n",
      "                            'names': ['Nikolaus Sonnenschein']},\n",
      " 's184235@student.dtu.dk': {'names': ['s184235']},\n",
      " 'svegal@biosustain.dtu.dk': {'login': ['sgalkina'],\n",
      "                              'names': ['Svetlana Galkina']},\n",
      " 'svegal@nnfcb-l0326.local': {'names': ['Svetlana Galkina']},\n",
      " 'svegal@nnfcb-l0431.eduroam.wireless.dtu.dk': {'names': ['Svetlana Galkina']},\n",
      " 'tala.1997.az@gmail.com': {'login': ['talaaz'], 'names': ['talaaz']}}\n"
     ]
    }
   ],
   "source": [
    "pprint(authors)"
   ]
  },
  {
   "cell_type": "code",
   "execution_count": 5,
   "metadata": {},
   "outputs": [],
   "source": [
    "author_map = {\n",
    "    \"43807218+annasirunian@users.noreply.github.com\": \"Anna Sirunian\",\n",
    "    \"alba.lopez.benito@gmail.com\": \"Alba Lopez\",\n",
    "    \"ali@kvikshaug.no\": \"Ali Kaafarani\",\n",
    "    \"anna_sirunian@ukr.net\": \"Anna Sirunian\",\n",
    "    \"bejsab@biosustain.dtu.dk\": \"Benjamín Sánchez\",\n",
    "    \"bjsanchezb@gmail.com\": \"Benjamín Sánchez\",\n",
    "    \"carrascomurielj@gmail.com\": \"Jorge Carrasco Muriel\",\n",
    "    \"christian.lieven@gmx.de\": \"Christian Lieven\",\n",
    "    \"christian.ravnen@gmail.com\": \"Christian Ravn\",\n",
    "    \"clie@biosustain.dtu.dk\": \"Christian Lieven\",\n",
    "    \"dandann@biosustain.dtu.dk\": \"Danny Dannaher\",\n",
    "    \"danny.dannaher@gmail.com\": \"Danny Dannaher\",\n",
    "    \"galkina.s.a@gmail.com\": \"Svetlana Kutuzova\",\n",
    "    \"galkinasa@gmail.com\": \"Svetlana Kutuzova\",\n",
    "    \"github.chauhan.siddharth@gmail.com\": \"Siddharth Chauhan\",\n",
    "    \"henning.red@gmail.com\": \"Henning Redestig\",\n",
    "    \"jonas.sindlinger@web.de\": \"Jonas Sindlinger\",\n",
    "    \"juraj.oravec.josefson@gmail.com\": \"Juraj Oravec\",\n",
    "    \"lukaw3d@gmail.com\": \"Luka Jeran\",\n",
    "    \"matyas.fodor@gmail.com\": \"Mátyás Fodor\",\n",
    "    \"midnighter@posteo.net\": \"Moritz Beber\",\n",
    "    \"morbeb@biosustain.dtu.dk\": \"Moritz Beber\",\n",
    "    \"niko.sonnenschein@gmail.com\": \"Nikolaus Sonnenschein\",\n",
    "    \"niso@biosustain.dtu.dk\": \"Nikolaus Sonnenschein\",\n",
    "    \"s184235@student.dtu.dk\": \"?\",\n",
    "    \"svegal@biosustain.dtu.dk\": \"Svetlana Kutuzova\",\n",
    "    \"svegal@nnfcb-l0326.local\": \"Svetlana Kutuzova\",\n",
    "    \"svegal@nnfcb-l0431.eduroam.wireless.dtu.dk\": \"Svetlana Kutuzova\",\n",
    "    \"tala.1997.az@gmail.com\": \"Tala Azrak\",\n",
    "}"
   ]
  },
  {
   "cell_type": "markdown",
   "metadata": {},
   "source": [
    "## Load Contributions"
   ]
  },
  {
   "cell_type": "code",
   "execution_count": 6,
   "metadata": {},
   "outputs": [],
   "source": [
    "import pandas as pd"
   ]
  },
  {
   "cell_type": "code",
   "execution_count": 7,
   "metadata": {},
   "outputs": [
    {
     "data": {
      "text/html": [
       "<div>\n",
       "<style scoped>\n",
       "    .dataframe tbody tr th:only-of-type {\n",
       "        vertical-align: middle;\n",
       "    }\n",
       "\n",
       "    .dataframe tbody tr th {\n",
       "        vertical-align: top;\n",
       "    }\n",
       "\n",
       "    .dataframe thead th {\n",
       "        text-align: right;\n",
       "    }\n",
       "</style>\n",
       "<table border=\"1\" class=\"dataframe\">\n",
       "  <thead>\n",
       "    <tr style=\"text-align: right;\">\n",
       "      <th></th>\n",
       "      <th>email</th>\n",
       "      <th>changes</th>\n",
       "    </tr>\n",
       "  </thead>\n",
       "  <tbody>\n",
       "    <tr>\n",
       "      <th>24</th>\n",
       "      <td>github.chauhan.siddharth@gmail.com</td>\n",
       "      <td>140</td>\n",
       "    </tr>\n",
       "    <tr>\n",
       "      <th>23</th>\n",
       "      <td>bejsab@biosustain.dtu.dk</td>\n",
       "      <td>163</td>\n",
       "    </tr>\n",
       "    <tr>\n",
       "      <th>13</th>\n",
       "      <td>lukaw3d@gmail.com</td>\n",
       "      <td>7154</td>\n",
       "    </tr>\n",
       "    <tr>\n",
       "      <th>14</th>\n",
       "      <td>jonas.sindlinger@web.de</td>\n",
       "      <td>2799</td>\n",
       "    </tr>\n",
       "    <tr>\n",
       "      <th>10</th>\n",
       "      <td>midnighter@posteo.net</td>\n",
       "      <td>26296</td>\n",
       "    </tr>\n",
       "  </tbody>\n",
       "</table>\n",
       "</div>"
      ],
      "text/plain": [
       "                                 email  changes\n",
       "24  github.chauhan.siddharth@gmail.com      140\n",
       "23            bejsab@biosustain.dtu.dk      163\n",
       "13                   lukaw3d@gmail.com     7154\n",
       "14             jonas.sindlinger@web.de     2799\n",
       "10               midnighter@posteo.net    26296"
      ]
     },
     "execution_count": 7,
     "metadata": {},
     "output_type": "execute_result"
    }
   ],
   "source": [
    "table = pd.read_csv(\n",
    "    \"contributions.txt\",\n",
    "    sep=\" \",\n",
    "    header=None,\n",
    "    names=(\"email\", \"changes\"),\n",
    "    thousands=\",\",\n",
    ")\n",
    "table.sample(5)"
   ]
  },
  {
   "cell_type": "code",
   "execution_count": 8,
   "metadata": {},
   "outputs": [
    {
     "data": {
      "text/html": [
       "<div>\n",
       "<style scoped>\n",
       "    .dataframe tbody tr th:only-of-type {\n",
       "        vertical-align: middle;\n",
       "    }\n",
       "\n",
       "    .dataframe tbody tr th {\n",
       "        vertical-align: top;\n",
       "    }\n",
       "\n",
       "    .dataframe thead th {\n",
       "        text-align: right;\n",
       "    }\n",
       "</style>\n",
       "<table border=\"1\" class=\"dataframe\">\n",
       "  <thead>\n",
       "    <tr style=\"text-align: right;\">\n",
       "      <th></th>\n",
       "      <th>changes</th>\n",
       "    </tr>\n",
       "    <tr>\n",
       "      <th>name</th>\n",
       "      <th></th>\n",
       "    </tr>\n",
       "  </thead>\n",
       "  <tbody>\n",
       "    <tr>\n",
       "      <th>Juraj Oravec</th>\n",
       "      <td>12259</td>\n",
       "    </tr>\n",
       "    <tr>\n",
       "      <th>Alba Lopez</th>\n",
       "      <td>147377</td>\n",
       "    </tr>\n",
       "    <tr>\n",
       "      <th>Siddharth Chauhan</th>\n",
       "      <td>140</td>\n",
       "    </tr>\n",
       "    <tr>\n",
       "      <th>Mátyás Fodor</th>\n",
       "      <td>103282</td>\n",
       "    </tr>\n",
       "    <tr>\n",
       "      <th>Tala Azrak</th>\n",
       "      <td>382</td>\n",
       "    </tr>\n",
       "  </tbody>\n",
       "</table>\n",
       "</div>"
      ],
      "text/plain": [
       "                   changes\n",
       "name                      \n",
       "Juraj Oravec         12259\n",
       "Alba Lopez          147377\n",
       "Siddharth Chauhan      140\n",
       "Mátyás Fodor        103282\n",
       "Tala Azrak             382"
      ]
     },
     "execution_count": 8,
     "metadata": {},
     "output_type": "execute_result"
    }
   ],
   "source": [
    "table[\"name\"] = table[\"email\"].map(author_map)\n",
    "df = table[[\"name\", \"changes\"]].groupby(\"name\", sort=False).sum()\n",
    "df.sort_values(\"changes\", ascending=False, inplace=True)\n",
    "df.sample(5)"
   ]
  },
  {
   "cell_type": "code",
   "execution_count": 9,
   "metadata": {},
   "outputs": [],
   "source": [
    "df[\"percent\"] = df[\"changes\"] / df[\"changes\"].sum()"
   ]
  },
  {
   "cell_type": "code",
   "execution_count": 10,
   "metadata": {},
   "outputs": [
    {
     "name": "stdout",
     "output_type": "stream",
     "text": [
      "Svetlana Kutuzova 35.04%\n",
      "Ali Kaafarani 19.67%\n",
      "Nikolaus Sonnenschein 15.63%\n",
      "Alba Lopez 9.03%\n",
      "Mátyás Fodor 6.33%\n",
      "Anna Sirunian 5.17%\n",
      "Moritz Beber 4.89%\n",
      "Christian Lieven 1.67%\n",
      "Juraj Oravec 0.75%\n",
      "Henning Redestig 0.74%\n",
      "Luka Jeran 0.44%\n",
      "Jonas Sindlinger 0.17%\n",
      "Benjamín Sánchez 0.16%\n",
      "Danny Dannaher 0.13%\n",
      "? 0.11%\n",
      "Tala Azrak 0.02%\n",
      "Jorge Carrasco Muriel 0.01%\n",
      "Siddharth Chauhan 0.01%\n",
      "Christian Ravn 0.01%\n"
     ]
    }
   ],
   "source": [
    "for row in df.itertuples():\n",
    "    print(f\"{row.Index} {row.percent:.2%}\")"
   ]
  }
 ],
 "metadata": {
  "kernelspec": {
   "display_name": "Python 3",
   "language": "python",
   "name": "python3"
  },
  "language_info": {
   "codemirror_mode": {
    "name": "ipython",
    "version": 3
   },
   "file_extension": ".py",
   "mimetype": "text/x-python",
   "name": "python",
   "nbconvert_exporter": "python",
   "pygments_lexer": "ipython3",
   "version": "3.8.1"
  }
 },
 "nbformat": 4,
 "nbformat_minor": 4
}
