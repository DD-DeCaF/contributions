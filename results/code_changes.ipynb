{
 "cells": [
  {
   "cell_type": "markdown",
   "metadata": {},
   "source": [
    "# Measure Code Contributions in Percent"
   ]
  },
  {
   "cell_type": "code",
   "execution_count": 1,
   "metadata": {},
   "outputs": [],
   "source": [
    "import pandas as pd"
   ]
  },
  {
   "cell_type": "code",
   "execution_count": 2,
   "metadata": {},
   "outputs": [
    {
     "data": {
      "text/html": [
       "<div>\n",
       "<style scoped>\n",
       "    .dataframe tbody tr th:only-of-type {\n",
       "        vertical-align: middle;\n",
       "    }\n",
       "\n",
       "    .dataframe tbody tr th {\n",
       "        vertical-align: top;\n",
       "    }\n",
       "\n",
       "    .dataframe thead th {\n",
       "        text-align: right;\n",
       "    }\n",
       "</style>\n",
       "<table border=\"1\" class=\"dataframe\">\n",
       "  <thead>\n",
       "    <tr style=\"text-align: right;\">\n",
       "      <th></th>\n",
       "      <th>author</th>\n",
       "      <th>changes</th>\n",
       "    </tr>\n",
       "  </thead>\n",
       "  <tbody>\n",
       "    <tr>\n",
       "      <th>0</th>\n",
       "      <td>sgalkina</td>\n",
       "      <td>383801</td>\n",
       "    </tr>\n",
       "    <tr>\n",
       "      <th>1</th>\n",
       "      <td>kvikshaug</td>\n",
       "      <td>339646</td>\n",
       "    </tr>\n",
       "    <tr>\n",
       "      <th>2</th>\n",
       "      <td>phantomas1234</td>\n",
       "      <td>254143</td>\n",
       "    </tr>\n",
       "    <tr>\n",
       "      <th>3</th>\n",
       "      <td>matyasfodor</td>\n",
       "      <td>212939</td>\n",
       "    </tr>\n",
       "    <tr>\n",
       "      <th>4</th>\n",
       "      <td>AlbaLopez</td>\n",
       "      <td>106443</td>\n",
       "    </tr>\n",
       "  </tbody>\n",
       "</table>\n",
       "</div>"
      ],
      "text/plain": [
       "          author  changes\n",
       "0       sgalkina   383801\n",
       "1      kvikshaug   339646\n",
       "2  phantomas1234   254143\n",
       "3    matyasfodor   212939\n",
       "4      AlbaLopez   106443"
      ]
     },
     "execution_count": 2,
     "metadata": {},
     "output_type": "execute_result"
    }
   ],
   "source": [
    "table = pd.read_csv(\"contributions.txt\", sep=\" \", header=None, names=(\"author\", \"changes\"), thousands=\",\")\n",
    "table.head()"
   ]
  },
  {
   "cell_type": "code",
   "execution_count": 3,
   "metadata": {},
   "outputs": [],
   "source": [
    "total = table[\"changes\"].sum()\n",
    "table[\"percent\"] = table[\"changes\"] / total"
   ]
  },
  {
   "cell_type": "code",
   "execution_count": 4,
   "metadata": {},
   "outputs": [
    {
     "name": "stdout",
     "output_type": "stream",
     "text": [
      "sgalkina 25.78%\n",
      "kvikshaug 22.81%\n",
      "phantomas1234 17.07%\n",
      "matyasfodor 14.30%\n",
      "AlbaLopez 7.15%\n",
      "Midnighter 4.93%\n",
      "annasirunian 2.42%\n",
      "hredestig 1.52%\n",
      "rolandjitsu 0.76%\n",
      "nkran 0.66%\n",
      "JuroOravec 0.59%\n",
      "lyschoening 0.47%\n",
      "lukaw3d 0.37%\n",
      "pankaj28843 0.35%\n",
      "warlink 0.26%\n",
      "Melanie-M 0.18%\n",
      "pasqoo 0.14%\n",
      "blablabananarama 0.11%\n",
      "BenjaSanchez 0.07%\n",
      "talaaz 0.03%\n",
      "carrascomj 0.02%\n",
      "RavensburgOP 0.01%\n"
     ]
    }
   ],
   "source": [
    "for row in table.itertuples():\n",
    "    print(f\"{row.author} {row.percent:.2%}\")"
   ]
  }
 ],
 "metadata": {
  "kernelspec": {
   "display_name": "Python 3",
   "language": "python",
   "name": "python3"
  },
  "language_info": {
   "codemirror_mode": {
    "name": "ipython",
    "version": 3
   },
   "file_extension": ".py",
   "mimetype": "text/x-python",
   "name": "python",
   "nbconvert_exporter": "python",
   "pygments_lexer": "ipython3",
   "version": "3.8.1"
  }
 },
 "nbformat": 4,
 "nbformat_minor": 4
}
